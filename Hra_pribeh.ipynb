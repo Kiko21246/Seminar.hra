{
  "nbformat": 4,
  "nbformat_minor": 0,
  "metadata": {
    "colab": {
      "provenance": [],
      "authorship_tag": "ABX9TyOFBWjW2QfsU8fraBckjrrx",
      "include_colab_link": true
    },
    "kernelspec": {
      "name": "python3",
      "display_name": "Python 3"
    },
    "language_info": {
      "name": "python"
    }
  },
  "cells": [
    {
      "cell_type": "markdown",
      "metadata": {
        "id": "view-in-github",
        "colab_type": "text"
      },
      "source": [
        "<a href=\"https://colab.research.google.com/github/Kiko21246/Seminar.hra/blob/main/Hra_pribeh.ipynb\" target=\"_parent\"><img src=\"https://colab.research.google.com/assets/colab-badge.svg\" alt=\"Open In Colab\"/></a>"
      ]
    },
    {
      "cell_type": "code",
      "execution_count": null,
      "metadata": {
        "id": "PhI2v7EDe39R"
      },
      "outputs": [],
      "source": []
    },
    {
      "cell_type": "markdown",
      "source": [
        "# Tvorba hyr\n",
        "Príbeh s dvemi možnostmi na konci 2. Po vyberu sa vytvorí další časť príbehu.\n",
        "Vždy je jen jedna možnosť správná."
      ],
      "metadata": {
        "id": "Q9tzXOhdgL04"
      }
    },
    {
      "cell_type": "code",
      "source": [
        "# prompt: Napíš mi príbeh s dvemi možnostmi na konci 2. Po vyberu sa vytvorí další časť príbehu. Vždy je len jedna možnosť správná.\n",
        "\n",
        "def start_game():\n",
        "    print(\"Dobrodružstvo začína...\")\n",
        "    print(\"Ste v hlbokom lese a pred vami sú dve cesty.\")\n",
        "    print(\"1. Vydáte sa po úzkej, strmej ceste do kopca.\")\n",
        "    print(\"2. Zvolíte širokú, rovinatú cestu, ktorá vedie hlbšie do lesa.\")\n",
        "\n",
        "    choice1 = input(\"Vyberte si cestu (1 alebo 2): \")\n",
        "\n",
        "    if choice1 == '1':\n",
        "        path_one()\n",
        "    elif choice1 == '2':\n",
        "        path_two()\n",
        "    else:\n",
        "        print(\"Neplatná voľba. Skúste to znova.\")\n",
        "        start_game()\n",
        "\n",
        "def path_one():\n",
        "    print(\"\\nVydali ste sa po strmej ceste. Je to náročné, ale po chvíli prídete na čistinu s malým domčekom.\")\n",
        "    print(\"Zdá sa, že nikto nie je doma, ale dvere sú pootvorené.\")\n",
        "    print(\"Čo urobíte?\")\n",
        "    print(\"1. Zaklopete a počkáte, či niekto odpovie.\")\n",
        "    print(\"2. Potichu vojdete dnu, aby ste sa pozreli, či nie je v nebezpečenstve.\")\n",
        "\n",
        "    choice2 = input(\"Vyberte si akciu (1 alebo 2): \")\n",
        "\n",
        "    if choice2 == '1':\n",
        "        print(\"\\nZaklopali ste. Po chvíli sa dvere otvoria a stojí v nich stará, milá pani.\")\n",
        "        print(\"Pozve vás dnu na čaj a koláč. Strávite príjemné popoludnie a dozviete sa cenné rady o lese.\")\n",
        "        print(\"Koniec príbehu. Vyhrali ste!\")\n",
        "    elif choice2 == '2':\n",
        "        print(\"\\nVošli ste dnu. Vnútri je prázdno a všade chaos. Zrazu sa za vami zavrú dvere a počujete zvuk zámku.\")\n",
        "        print(\"Uviazli ste v pasci! Po chvíli prídu zlodeji, ktorí dom vykradli a chytia vás.\")\n",
        "        print(\"Koniec príbehu. Prehrali ste.\")\n",
        "    else:\n",
        "        print(\"Neplatná voľba. Skúste to znova.\")\n",
        "        path_one()\n",
        "\n",
        "\n",
        "def path_two():\n",
        "    print(\"\\nVybrali ste si širokú cestu. Po chvíli chôdze narazíte na rieku s chatrným mostom.\")\n",
        "    print(\"Pod mostom počujete tiché vrčanie.\")\n",
        "    print(\"Čo urobíte?\")\n",
        "    print(\"1. Prejdete opatrne cez most a riskujete, že sa zrúti.\")\n",
        "    print(\"2. Skúsite nájsť iný prechod cez rieku.\")\n",
        "\n",
        "    choice2 = input(\"Vyberte si akciu (1 alebo 2): \")\n",
        "\n",
        "    if choice2 == '1':\n",
        "        print(\"\\nSkúsili ste prejsť cez most. Most sa pod váhou prelomil a spadli ste do rieky!\")\n",
        "        print(\"Rieka je prúdná a strháva vás so sebou. Pod mostom vybehne medveď, ktorý na vás zaútočí.\")\n",
        "        print(\"Koniec príbehu. Prehrali ste.\")\n",
        "    elif choice2 == '2':\n",
        "        print(\"\\nHľadali ste iný prechod. Po chvíli ste objavili plytké miesto, kde sa dá rieka bezpečne prebrodiť.\")\n",
        "        print(\"Na druhej strane rieky nájdete poklad! Je plný zlata a drahokamov.\")\n",
        "        print(\"Koniec príbehu. Vyhrali ste!\")\n",
        "    else:\n",
        "        print(\"Neplatná voľba. Skúste to znova.\")\n",
        "        path_two()\n",
        "\n",
        "# Spustenie hry\n",
        "start_game()\n"
      ],
      "metadata": {
        "colab": {
          "base_uri": "https://localhost:8080/"
        },
        "id": "tEq266yxg4_h",
        "outputId": "5786dd61-6777-412f-9a32-6fe6694abdd7"
      },
      "execution_count": 1,
      "outputs": [
        {
          "output_type": "stream",
          "name": "stdout",
          "text": [
            "Dobrodružstvo začína...\n",
            "Ste v hlbokom lese a pred vami sú dve cesty.\n",
            "1. Vydáte sa po úzkej, strmej ceste do kopca.\n",
            "2. Zvolíte širokú, rovinatú cestu, ktorá vedie hlbšie do lesa.\n",
            "Vyberte si cestu (1 alebo 2): 1\n",
            "\n",
            "Vydali ste sa po strmej ceste. Je to náročné, ale po chvíli prídete na čistinu s malým domčekom.\n",
            "Zdá sa, že nikto nie je doma, ale dvere sú pootvorené.\n",
            "Čo urobíte?\n",
            "1. Zaklopete a počkáte, či niekto odpovie.\n",
            "2. Potichu vojdete dnu, aby ste sa pozreli, či nie je v nebezpečenstve.\n",
            "Vyberte si akciu (1 alebo 2): 1\n",
            "\n",
            "Zaklopali ste. Po chvíli sa dvere otvoria a stojí v nich stará, milá pani.\n",
            "Pozve vás dnu na čaj a koláč. Strávite príjemné popoludnie a dozviete sa cenné rady o lese.\n",
            "Koniec príbehu. Vyhrali ste!\n"
          ]
        }
      ]
    }
  ]
}