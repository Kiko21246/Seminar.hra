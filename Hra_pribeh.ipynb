{
  "nbformat": 4,
  "nbformat_minor": 0,
  "metadata": {
    "colab": {
      "provenance": [],
      "authorship_tag": "ABX9TyOYFvFoFq6GnqQQc4i8CbqR",
      "include_colab_link": true
    },
    "kernelspec": {
      "name": "python3",
      "display_name": "Python 3"
    },
    "language_info": {
      "name": "python"
    }
  },
  "cells": [
    {
      "cell_type": "markdown",
      "metadata": {
        "id": "view-in-github",
        "colab_type": "text"
      },
      "source": [
        "<a href=\"https://colab.research.google.com/github/Kiko21246/Seminar.hra/blob/main/Hra_pribeh.ipynb\" target=\"_parent\"><img src=\"https://colab.research.google.com/assets/colab-badge.svg\" alt=\"Open In Colab\"/></a>"
      ]
    },
    {
      "cell_type": "code",
      "execution_count": 16,
      "metadata": {
        "colab": {
          "base_uri": "https://localhost:8080/"
        },
        "id": "PhI2v7EDe39R",
        "outputId": "f3dbbd6a-abbf-4baa-f80f-19046c316cf5"
      },
      "outputs": [
        {
          "output_type": "stream",
          "name": "stdout",
          "text": [
            "=== ROŽŇAVA – A FRESH START? ===\n",
            "Tommy has just arrived in the quiet Slovak town of Rožňava. The crisp air smells of change and new beginnings.\n",
            "As he walks the cobbled streets, he notices an old man on a bench smiling at him warmly.\n",
            "\n",
            "1: Approach the old man.\n",
            "2: Ignore him and keep walking.\n",
            "Your choice (1 or 2): 2\n",
            "\n",
            "Tommy walks past, but soon gets hungry and decides to order a pizza. An unexpected opportunity arises...\n",
            "\n",
            "=== THE STOLEN SCOOTER ===\n",
            "Tommy's stomach growls. He spots a red delivery scooter unattended outside a bakery – keys still in the ignition.\n",
            "Desperate and hungry, he hops on and takes off.\n",
            "Moments later, a police radio crackles: 'Red scooter just stolen – pizza guy fled the scene!'\n",
            "\n",
            "--- POLICE CHASE ---\n",
            "Officer Joseph is sipping his coffee when he hears the report.\n",
            "1: He immediately starts the chase.\n",
            "2: He finishes his coffee first.\n",
            "Your choice (1 or 2): 2\n",
            "\n",
            "The delay costs him. The scooter is long gone.\n",
            "\n",
            "--- GAME OVER ---\n",
            "Tommy escapes – for now.\n"
          ]
        }
      ],
      "source": [
        "def start_game():\n",
        "    print(\"=== ROŽŇAVA – A FRESH START? ===\")\n",
        "    print(\"Tommy has just arrived in the quiet Slovak town of Rožňava. The crisp air smells of change and new beginnings.\")\n",
        "    print(\"As he walks the cobbled streets, he notices an old man on a bench smiling at him warmly.\")\n",
        "    print(\"\\n1: Approach the old man.\")\n",
        "    print(\"2: Ignore him and keep walking.\")\n",
        "    choice = input(\"Your choice (1 or 2): \")\n",
        "\n",
        "    if choice == \"1\":\n",
        "        meet_jozef()\n",
        "    elif choice == \"2\":\n",
        "        print(\"\\nTommy walks past, but soon gets hungry and decides to order a pizza. An unexpected opportunity arises...\")\n",
        "        stolen_scooter()\n",
        "    else:\n",
        "        print(\"\\nInvalid choice. The story ends.\")\n",
        "\n",
        "def meet_jozef():\n",
        "    print(\"\\nTommy walks up to the man, who greets him with a gravelly but friendly voice.\")\n",
        "    print(\"'Hello there. New in town?'\")\n",
        "    print(\"\\n1: 'Yes, I just arrived today.'\")\n",
        "    print(\"2: 'What makes you say that?'\")\n",
        "    print(\"3: Remain silent and nod.\")\n",
        "    choice = input(\"Your choice (1, 2, or 3): \")\n",
        "\n",
        "    if choice in ['1', '2', '3']:\n",
        "        ask_reason()\n",
        "    else:\n",
        "        print(\"\\nInvalid response. The conversation ends awkwardly.\")\n",
        "\n",
        "def ask_reason():\n",
        "    print(\"\\nThe old man chuckles.\")\n",
        "    print(\"'So what brings you to our little corner of the world?'\")\n",
        "    print(\"\\n1: 'Just passing through.'\")\n",
        "    print(\"2: 'Looking for a new start.'\")\n",
        "    print(\"3: 'Exploring Slovakia.'\")\n",
        "    choice = input(\"Your choice (1, 2, or 3): \")\n",
        "\n",
        "    if choice == '2':\n",
        "        print(\"\\n'A fresh start, huh?' he nods knowingly. 'Rožňava is quiet, full of second chances.'\")\n",
        "        print(\"Tommy smiles, but his stomach rumbles. Time to find food... or work.\")\n",
        "        print(\"As he walks on, he notices a pizza delivery scooter parked with the key still in it...\")\n",
        "        stolen_scooter()\n",
        "    else:\n",
        "        print(\"\\nTommy nods politely, then excuses himself to find something to eat.\")\n",
        "        stolen_scooter()\n",
        "\n",
        "def stolen_scooter():\n",
        "    print(\"\\n=== THE STOLEN SCOOTER ===\")\n",
        "    print(\"Tommy's stomach growls. He spots a red delivery scooter unattended outside a bakery – keys still in the ignition.\")\n",
        "    print(\"Desperate and hungry, he hops on and takes off.\")\n",
        "    print(\"Moments later, a police radio crackles: 'Red scooter just stolen – pizza guy fled the scene!'\")\n",
        "    police_chase_intro()\n",
        "\n",
        "def police_chase_intro():\n",
        "    print(\"\\n--- POLICE CHASE ---\")\n",
        "    print(\"Officer Joseph is sipping his coffee when he hears the report.\")\n",
        "    print(\"1: He immediately starts the chase.\")\n",
        "    print(\"2: He finishes his coffee first.\")\n",
        "    choice = input(\"Your choice (1 or 2): \")\n",
        "\n",
        "    if choice == \"1\":\n",
        "        chase()\n",
        "    elif choice == \"2\":\n",
        "        print(\"\\nThe delay costs him. The scooter is long gone.\")\n",
        "        end_game(\"Tommy escapes – for now.\")\n",
        "    else:\n",
        "        print(\"\\nInvalid choice.\")\n",
        "        police_chase_intro()\n",
        "\n",
        "def chase():\n",
        "    print(\"\\nJoseph spots the red scooter turning into a narrow alley.\")\n",
        "    print(\"1: Follow in the patrol car.\")\n",
        "    print(\"2: Jump out and take a shortcut on foot.\")\n",
        "    choice = input(\"Your choice (1 or 2): \")\n",
        "\n",
        "    if choice == \"2\":\n",
        "        shortcut()\n",
        "    elif choice == \"1\":\n",
        "        end_game(\"The car gets stuck between buildings. Tommy speeds away.\")\n",
        "    else:\n",
        "        print(\"\\nInvalid choice.\")\n",
        "        chase()\n",
        "\n",
        "def shortcut():\n",
        "    print(\"\\nJoseph leaps from an alley just as Tommy slows down.\")\n",
        "    print(\"1: Yell 'Stop! Police!'\")\n",
        "    print(\"2: Quietly tackle him off the scooter.\")\n",
        "    choice = input(\"Your choice (1 or 2): \")\n",
        "\n",
        "    if choice == \"2\":\n",
        "        victory(\"Joseph successfully tackles the thief. The scooter is recovered. Case closed.\")\n",
        "    elif choice == \"1\":\n",
        "        end_game(\"Tommy hits the gas and escapes in the confusion.\")\n",
        "    else:\n",
        "        print(\"\\nInvalid choice.\")\n",
        "        shortcut()\n",
        "\n",
        "def victory(message):\n",
        "    print(\"\\n*** VICTORY ***\")\n",
        "    print(message)\n",
        "\n",
        "def end_game(message):\n",
        "    print(\"\\n--- GAME OVER ---\")\n",
        "    print(message)\n",
        "\n",
        "# Start the game\n",
        "if __name__ == \"__main__\":\n",
        "    start_game()\n"
      ]
    },
    {
      "cell_type": "markdown",
      "source": [],
      "metadata": {
        "id": "PeM40iBznzSD"
      }
    },
    {
      "cell_type": "markdown",
      "source": [],
      "metadata": {
        "id": "kNfSfTMKuqLq"
      }
    }
  ]
}